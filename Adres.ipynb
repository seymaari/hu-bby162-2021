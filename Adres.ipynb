{
  "nbformat": 4,
  "nbformat_minor": 0,
  "metadata": {
    "colab": {
      "name": "Adres.ipynb",
      "provenance": [],
      "mount_file_id": "1UsY96YG_o_cAHqxEA7nxt9Unh1rp2paK",
      "authorship_tag": "ABX9TyPa5XE2hdGNzJQDtNhTnqEG",
      "include_colab_link": true
    },
    "kernelspec": {
      "name": "python3",
      "display_name": "Python 3"
    },
    "language_info": {
      "name": "python"
    }
  },
  "cells": [
    {
      "cell_type": "markdown",
      "metadata": {
        "id": "view-in-github",
        "colab_type": "text"
      },
      "source": [
        "<a href=\"https://colab.research.google.com/github/seymaari/hu-bby162-2021/blob/main/Adres.ipynb\" target=\"_parent\"><img src=\"https://colab.research.google.com/assets/colab-badge.svg\" alt=\"Open In Colab\"/></a>"
      ]
    },
    {
      "cell_type": "code",
      "metadata": {
        "colab": {
          "base_uri": "https://localhost:8080/"
        },
        "id": "r20FdIFId909",
        "outputId": "455f1b00-af0e-485e-f04b-6ff418bf2b76"
      },
      "source": [
        "from google.colab import drive\n",
        "drive.mount('/content/drive')\n",
        "\n",
        "dosya = \"/content/drive/MyDrive/Colab Notebooks/Adres.txt\"\n",
        "\n",
        "f = open(dosya, \"r\") \n",
        "\n",
        "for line in f.readlines():\n",
        "    print(line)\n",
        "\n",
        "f.close()"
      ],
      "execution_count": 1,
      "outputs": [
        {
          "output_type": "stream",
          "text": [
            "Drive already mounted at /content/drive; to attempt to forcibly remount, call drive.mount(\"/content/drive\", force_remount=True).\n",
            "Şeymanur Arı \n",
            "\n",
            "ariseyma11@gmail.com\n",
            "\n"
          ],
          "name": "stdout"
        }
      ]
    },
    {
      "cell_type": "code",
      "metadata": {
        "colab": {
          "base_uri": "https://localhost:8080/"
        },
        "id": "Dtwyym-VfFu3",
        "outputId": "7675c0e3-f32d-4967-95df-69a85298a641"
      },
      "source": [
        "from google.colab import drive\n",
        "drive.mount('/content/drive')\n",
        " \n",
        "dosya = \"/content/drive/MyDrive/Colab Notebooks/Adres.txt\"\n",
        "\n",
        "f = open(dosya, 'w') \n",
        "f.write(\"Şeymanur Arı\\n ariseyma11@gmail.com\") \n",
        "f.close()"
      ],
      "execution_count": 2,
      "outputs": [
        {
          "output_type": "stream",
          "text": [
            "Drive already mounted at /content/drive; to attempt to forcibly remount, call drive.mount(\"/content/drive\", force_remount=True).\n"
          ],
          "name": "stdout"
        }
      ]
    }
  ]
}