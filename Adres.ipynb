{
  "nbformat": 4,
  "nbformat_minor": 0,
  "metadata": {
    "colab": {
      "name": "Adres.ipynb",
      "provenance": [],
      "mount_file_id": "1TPGPzT_LIZy7vwGeWnMJXI-dAg8L4tAr",
      "authorship_tag": "ABX9TyPEzIB/TMXl4t3t6EWCO/dZ",
      "include_colab_link": true
    },
    "kernelspec": {
      "name": "python3",
      "display_name": "Python 3"
    },
    "language_info": {
      "name": "python"
    }
  },
  "cells": [
    {
      "cell_type": "markdown",
      "metadata": {
        "id": "view-in-github",
        "colab_type": "text"
      },
      "source": [
        "<a href=\"https://colab.research.google.com/github/seymaari/hu-bby162-2021/blob/main/Adres.ipynb\" target=\"_parent\"><img src=\"https://colab.research.google.com/assets/colab-badge.svg\" alt=\"Open In Colab\"/></a>"
      ]
    },
    {
      "cell_type": "code",
      "metadata": {
        "colab": {
          "base_uri": "https://localhost:8080/"
        },
        "id": "Mk8AL84_uI1m",
        "outputId": "fb56a2b4-d950-48d7-a20c-eb67a4fa1067"
      },
      "source": [
        "dosya = \"/content/drive/MyDrive/Colab Notebooks/Adres.txt\"\n",
        "\n",
        "adSoyad = input(\"Adınızı Soyadınızı Giriniz\")\n",
        "eposta = input(\"E-posta adresinizi giriniz\")\n",
        "\n",
        "f = open(dosya, 'w') \n",
        "f.write(adSoyad + \" I \" + eposta + \"\\n\") \n",
        "f.close()\n",
        "\n",
        "dosya = \"/content/drive/MyDrive/Colab Notebooks/Adres.txt\"\n",
        "\n",
        "f = open(dosya, \"r\") \n",
        "\n",
        "for line in f.readlines():\n",
        "    print(line)\n",
        "\n",
        "f.close()"
      ],
      "execution_count": 1,
      "outputs": [
        {
          "output_type": "stream",
          "text": [
            "Adınızı Soyadınızı GirinizŞeymanur Arı\n",
            "E-posta adresinizi girinizariseyma11@gmail.com\n",
            "Şeymanur Arı I ariseyma11@gmail.com\n",
            "\n"
          ],
          "name": "stdout"
        }
      ]
    }
  ]
}