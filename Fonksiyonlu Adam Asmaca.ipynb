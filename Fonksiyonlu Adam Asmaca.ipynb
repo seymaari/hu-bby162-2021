{
  "nbformat": 4,
  "nbformat_minor": 0,
  "metadata": {
    "colab": {
      "name": "Untitled0.ipynb",
      "provenance": [],
      "authorship_tag": "ABX9TyNGAkbSNstKdds/S938238E",
      "include_colab_link": true
    },
    "kernelspec": {
      "name": "python3",
      "display_name": "Python 3"
    },
    "language_info": {
      "name": "python"
    }
  },
  "cells": [
    {
      "cell_type": "markdown",
      "metadata": {
        "id": "view-in-github",
        "colab_type": "text"
      },
      "source": [
        "<a href=\"https://colab.research.google.com/github/seymaari/hu-bby162-2021/blob/main/Fonksiyonlu%20Adam%20Asmaca.ipynb\" target=\"_parent\"><img src=\"https://colab.research.google.com/assets/colab-badge.svg\" alt=\"Open In Colab\"/></a>"
      ]
    },
    {
      "cell_type": "code",
      "metadata": {
        "id": "V4AkCcEhUGBn",
        "colab": {
          "base_uri": "https://localhost:8080/"
        },
        "outputId": "cf3c8b56-6ee8-44fd-de54-359a0e1b0abe"
      },
      "source": [
        "# Fonksiyonlu Adam Asmaca\n",
        "print(\"Adam asmacaya hoş geldiniz\")\n",
        "def adamAsmaca(): \n",
        "  adamCan = 3\n",
        "  kelimeler = [\"bisiklet\", \"triatlon\", \"yüzme\", \"koşu\"]\n",
        "  secilenKelime = choice(kelimeler)\n",
        "  print(secilenKelime)\n",
        "  dizilenKelime = []\n",
        "  for diz in secilenKelime:\n",
        "      dizilenKelime.append(\"_\")\n",
        "  print(dizilenKelime)\n",
        "\n",
        "  while adamCan > 0:\n",
        "      girilenHarf = input(\"Bir harf giriniz: \")\n",
        "      canKontrol = girilenHarf in secilenKelime\n",
        "      if canKontrol == False:\n",
        "          adamCan-=1\n",
        "      i = 0\n",
        "      for kontrol in secilenKelime:\n",
        "          if secilenKelime[i] == girilenHarf:\n",
        "              dizilenKelime[i] = girilenHarf\n",
        "          i+=1\n",
        "      kelimeGuncel = \"\"\n",
        "      for kelimeG in dizilenKelime:\n",
        "        kelimeGuncel += kelimeG\n",
        "      if secilenKelime == kelimeGuncel:\n",
        "        print(\"Tebrikler bildiniz\")\n",
        "        break\n",
        "\n",
        "      print(dizilenKelime)\n",
        "      print(\"Kalan can: \"+ str(adamCan))\n",
        "def menu():\n",
        "  from random import choice\n",
        "print(\":::: Adam asmaca oyununa hoşgeldiniz ::::\")\n",
        "oyunKontrol = input(\"Oyuna başlamak istiyor musunuz 0) hayır 1) evet 0/1: \")\n",
        "if oyunKontrol == \"1\":\n",
        "  adamAsmaca()\n",
        "else :\n",
        "  print(\"Teşekkürler\")"
      ],
      "execution_count": 14,
      "outputs": [
        {
          "output_type": "stream",
          "text": [
            "Adam asmacaya hoş geldiniz\n",
            ":::: Adam asmaca oyununa hoşgeldiniz ::::\n",
            "Oyuna başlamak istiyor musunuz 0) hayır 1) evet 0/1: 1\n",
            "koşu\n",
            "['_', '_', '_', '_']\n",
            "Bir harf giriniz: k\n",
            "['k', '_', '_', '_']\n",
            "Kalan can: 3\n",
            "Bir harf giriniz: o\n",
            "['k', 'o', '_', '_']\n",
            "Kalan can: 3\n",
            "Bir harf giriniz: ş\n",
            "['k', 'o', 'ş', '_']\n",
            "Kalan can: 3\n",
            "Bir harf giriniz: u\n",
            "Tebrikler bildiniz\n"
          ],
          "name": "stdout"
        }
      ]
    }
  ]
}